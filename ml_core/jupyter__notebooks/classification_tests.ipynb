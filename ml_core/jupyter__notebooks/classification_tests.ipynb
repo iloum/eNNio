{
 "cells": [
  {
   "cell_type": "code",
   "execution_count": 1,
   "metadata": {},
   "outputs": [],
   "source": [
    "import pandas as pd\n",
    "import random\n",
    "import numpy as np\n",
    "import os\n",
    "import seaborn as sns\n",
    "import matplotlib.pyplot as plt\n",
    "import time\n",
    "from sklearn.preprocessing import MinMaxScaler, StandardScaler\n",
    "from sklearn.utils import shuffle\n",
    "from sklearn.tree import DecisionTreeClassifier\n",
    "from sklearn.neighbors import KNeighborsClassifier\n",
    "from sklearn.naive_bayes import GaussianNB\n",
    "from sklearn.svm import SVC\n",
    "from sklearn.ensemble import RandomForestClassifier\n",
    "from sklearn.metrics import precision_score, accuracy_score\n",
    "from sklearn.metrics import confusion_matrix\n",
    "from sklearn.dummy import DummyClassifier\n",
    "from sklearn.manifold import Isomap\n",
    "from sklearn.decomposition import TruncatedSVD"
   ]
  },
  {
   "cell_type": "code",
   "execution_count": 2,
   "metadata": {},
   "outputs": [],
   "source": [
    "def import_data(data_dir=\"../../data\"):\n",
    "    metadata_file = \"metadata_df.pkl\"\n",
    "    metadata_df = pd.read_pickle(os.path.join(data_dir, metadata_file))\n",
    "    audio_file = \"audio_features_df_{mid_window_5.0,mid_step_0.5,short_window_1.0,short_step_0.5}.pkl\"\n",
    "    audio_df = pd.read_pickle(os.path.join(data_dir, audio_file))\n",
    "    audio_df = audio_df.drop(['beat_conf'], axis=1)\n",
    "    video_file = \"video_features_df_{ftlist_[lbps,hogs,colors,flow],width_300,step_3}.pkl\"\n",
    "    video_df = pd.read_pickle(os.path.join(data_dir, video_file))\n",
    "    return metadata_df, audio_df, video_df"
   ]
  },
  {
   "cell_type": "code",
   "execution_count": 3,
   "metadata": {},
   "outputs": [],
   "source": [
    "def my_train_test_split(percentage, df):\n",
    "    test_idx_list = list()\n",
    "    test_url_list = list()\n",
    "\n",
    "    original_list_of_indexes = list(df.index.values)\n",
    "\n",
    "    total_items, _ = df.shape\n",
    "    required_test_items = np.round(percentage*total_items)\n",
    "\n",
    "    while len(test_idx_list)<required_test_items:\n",
    "        #select random item\n",
    "        item_idx = random.choice(original_list_of_indexes)\n",
    "        item_url = df.at[item_idx, \"Url\"]\n",
    "        if item_url not in test_url_list:\n",
    "            test_url_list.append(item_url)\n",
    "            test_idx_list.extend(list(df.index[df['Url'] == item_url]))\n",
    "\n",
    "    train_idx_list = [x for x in original_list_of_indexes if x not in test_idx_list]\n",
    "\n",
    "    return train_idx_list, test_idx_list"
   ]
  },
  {
   "cell_type": "code",
   "execution_count": 4,
   "metadata": {},
   "outputs": [],
   "source": [
    "def create_not_matching_entries(num_of_entries, metadata, indexes):\n",
    "    mappings = {}\n",
    "    videos = random.sample(indexes, num_of_entries)\n",
    "    for video in videos:\n",
    "        candidates = metadata[metadata[\"Url\"] == metadata.at[video, \"Mismatch URL\"]]\n",
    "        mappings[video] = random.choice(candidates.index)\n",
    "    return mappings"
   ]
  },
  {
   "cell_type": "code",
   "execution_count": 5,
   "metadata": {},
   "outputs": [],
   "source": [
    "def get_feature_target_arrays(audio_df, metadata_df, train_list, video_df):\n",
    "\n",
    "    \n",
    "    video_train = video_df.loc[train_list]\n",
    "    audio_train = audio_df.loc[train_list]\n",
    "    \n",
    "    X_train_match = np.hstack((video_train.values, audio_train.values))\n",
    "    Y_train_match = np.ones((X_train_match.shape[0], 1))\n",
    "    train_no_match_mapping = create_not_matching_entries(X_train_match.shape[0],\n",
    "                                                              metadata_df, train_list)\n",
    "    X_train_no_match = np.hstack((video_df.loc[train_no_match_mapping.keys()].values,\n",
    "                                  audio_df.loc[train_no_match_mapping.values()].values))\n",
    "    Y_train_no_match = np.zeros((X_train_no_match.shape[0], 1))\n",
    "    X_train = np.vstack((X_train_match, X_train_no_match))\n",
    "    Y_train = np.vstack((Y_train_match, Y_train_no_match)).ravel()\n",
    "    X_train, Y_train = shuffle(X_train, Y_train, random_state=2020)\n",
    "\n",
    "    return X_train, Y_train\n",
    "\n",
    "def create_train_test_splits(percentage, metadata_df, audio_df,\n",
    "                             video_df, num_of_splits=20):\n",
    "    splits = []\n",
    "\n",
    "    for split_num in range(num_of_splits):\n",
    "        random.seed(2020 + 2*split_num)\n",
    "        train_list, test_list = my_train_test_split(percentage, metadata_df)\n",
    "\n",
    "        X_train, Y_train = get_feature_target_arrays(audio_df, metadata_df, train_list, video_df)\n",
    "        X_test, Y_test = get_feature_target_arrays(audio_df, metadata_df, test_list, video_df)\n",
    "\n",
    "        splits.append({\"X_train\": X_train, \"Y_train\": Y_train, \"X_test\": X_test, \"Y_test\": Y_test})\n",
    "\n",
    "    return splits"
   ]
  },
  {
   "cell_type": "code",
   "execution_count": 6,
   "metadata": {},
   "outputs": [],
   "source": [
    "def normalize_df(df):\n",
    "    scaler = StandardScaler()\n",
    "    scaled_df = pd.DataFrame(scaler.fit_transform(df.values), columns=df.columns, index=df.index)\n",
    "    return scaled_df, scaler"
   ]
  },
  {
   "cell_type": "code",
   "execution_count": 7,
   "metadata": {},
   "outputs": [],
   "source": [
    "def reduce_dimensions_svd(in_df:pd.DataFrame, new_dimension:int):\n",
    "    \"\"\"\n",
    "    Method to reduce the features in a dataframe\n",
    "    using Multidimensional scaling\n",
    "    :param in_df: Input dataframe\n",
    "    :param new_dimension: Number of output features\n",
    "    :return: Reduced dataframe, reducer\n",
    "    \"\"\"\n",
    "    reducer = TruncatedSVD(n_components=new_dimension, random_state=2020)\n",
    "    out_df = pd.DataFrame(reducer.fit_transform(in_df.values),\n",
    "                          index=in_df.index)\n",
    "\n",
    "    return out_df, reducer"
   ]
  },
  {
   "cell_type": "code",
   "execution_count": 8,
   "metadata": {},
   "outputs": [],
   "source": [
    "metadata_df, audio_df, video_df = import_data()"
   ]
  },
  {
   "cell_type": "code",
   "execution_count": 9,
   "metadata": {},
   "outputs": [
    {
     "name": "stdout",
     "output_type": "stream",
     "text": [
      "Baseline  accuracy: 0.477 time to fit:    0.000sec test time:    0.001sec\n",
      "kNN       accuracy: 0.530 time to fit:    0.005sec test time:    0.056sec\n",
      "DT        accuracy: 0.468 time to fit:    0.064sec test time:    0.000sec\n",
      "NB        accuracy: 0.475 time to fit:    0.001sec test time:    0.001sec\n",
      "SVM       accuracy: 0.543 time to fit:    0.244sec test time:    0.051sec\n",
      "RF        accuracy: 0.384 time to fit:    0.679sec test time:    0.012sec\n"
     ]
    }
   ],
   "source": [
    "from math import sqrt\n",
    "norm_video_df, _ = normalize_df(video_df)\n",
    "norm_audio_df, _ = normalize_df(audio_df)\n",
    "\n",
    "trans_video_df, _ = reduce_dimensions_svd(norm_video_df, round(sqrt(norm_video_df.shape[0])))\n",
    "trans_audio_df, _ = reduce_dimensions_svd(norm_audio_df, round(sqrt(norm_audio_df.shape[0])))\n",
    "\n",
    "splits = create_train_test_splits(0.2, metadata_df, trans_audio_df, trans_video_df)\n",
    "\n",
    "models = {'Baseline': DummyClassifier(strategy=\"stratified\", random_state=2020),\n",
    "          'kNN': KNeighborsClassifier(),\n",
    "          'DT':  DecisionTreeClassifier(random_state=2020),\n",
    "          'NB':  GaussianNB(),\n",
    "          'SVM': SVC(random_state=2020),\n",
    "          'RF' : RandomForestClassifier(random_state=2020)}\n",
    "\n",
    "scores = {model_name: [] for model_name in models.keys()}\n",
    "\n",
    "for model_name, model in models.items():\n",
    "    fit_times = []\n",
    "    testing_times = []\n",
    "    \n",
    "    for split in splits:\n",
    "        start_time = time.time()\n",
    "        model.fit(split[\"X_train\"], split[\"Y_train\"])\n",
    "        fit_time = time.time() - start_time\n",
    "\n",
    "        start_time = time.time()\n",
    "        Y_predict = model.predict(split[\"X_test\"])\n",
    "        score = accuracy_score(split[\"Y_test\"], Y_predict)\n",
    "        testing_time = time.time() - start_time\n",
    "        \n",
    "        fit_times.append(fit_time)\n",
    "        testing_times.append(testing_time)\n",
    "        scores[model_name].append(score)\n",
    "    \n",
    "    print(\"{name:9} accuracy: {score:.3f} time to fit: {time:8.3f}\"\n",
    "          \"sec test time: {time_test:8.3f}sec\".format(name=model_name,\n",
    "                                                      score=np.median(scores[model_name]),\n",
    "                                                      time=np.median(fit_times),\n",
    "                                                      time_test=np.median(testing_times)))"
   ]
  },
  {
   "cell_type": "code",
   "execution_count": 10,
   "metadata": {},
   "outputs": [
    {
     "data": {
      "image/png": "[encoded data removed]",
      "text/plain": [
       "<Figure size 432x288 with 1 Axes>"
      ]
     },
     "metadata": {
      "needs_background": "light"
     },
     "output_type": "display_data"
    }
   ],
   "source": [
    "sns.boxplot(data=pd.DataFrame.from_dict(scores))\n",
    "plt.savefig(\"classifiers.png\")"
   ]
  },
  {
   "cell_type": "code",
   "execution_count": 11,
   "metadata": {},
   "outputs": [
    {
     "name": "stdout",
     "output_type": "stream",
     "text": [
      "{'C': 0.001, 'gamma': 1, 'kernel': 'poly'}\n",
      "0.5534591194968553\n"
     ]
    }
   ],
   "source": [
    "from sklearn.model_selection import GridSearchCV\n",
    "\n",
    "Cs = [0.001, 0.01, 0.1, 1, 10]\n",
    "gammas = [0.001, 0.01, 0.1, 1]\n",
    "kernels = [\"linear\", \"poly\", \"rbf\", \"sigmoid\"]\n",
    "param_grid = {'C': Cs, 'gamma' : gammas, \"kernel\": kernels}\n",
    "grid_search = GridSearchCV(SVC(random_state=2020), param_grid, cv=2, scoring=\"accuracy\", n_jobs=3)\n",
    "grid_search.fit(splits[0][\"X_train\"], splits[0][\"Y_train\"])\n",
    "print(grid_search.best_params_)\n",
    "print(grid_search.best_score_)"
   ]
  },
  {
   "cell_type": "code",
   "execution_count": 12,
   "metadata": {},
   "outputs": [],
   "source": [
    "f_model = SVC(**grid_search.best_params_, random_state=2020, probability=True)"
   ]
  },
  {
   "cell_type": "code",
   "execution_count": 13,
   "metadata": {},
   "outputs": [
    {
     "data": {
      "text/plain": [
       "SVC(C=0.001, break_ties=False, cache_size=200, class_weight=None, coef0=0.0,\n",
       "    decision_function_shape='ovr', degree=3, gamma=1, kernel='poly',\n",
       "    max_iter=-1, probability=True, random_state=2020, shrinking=True, tol=0.001,\n",
       "    verbose=False)"
      ]
     },
     "execution_count": 13,
     "metadata": {},
     "output_type": "execute_result"
    }
   ],
   "source": [
    "f_model.fit(split[\"X_train\"], split[\"Y_train\"])"
   ]
  },
  {
   "cell_type": "code",
   "execution_count": 14,
   "metadata": {},
   "outputs": [],
   "source": [
    "trans_video_new = trans_video_df[:1]\n",
    "suggestions = []\n",
    "\n",
    "for audio in trans_audio_df.iterrows():\n",
    "    x = np.hstack((trans_video_new.values,\n",
    "                   audio[1].values.reshape(1,len(audio[1]))))\n",
    "            \n",
    "    probs = model.predict_proba(x).ravel().tolist()\n",
    "    max_prob = max(probs)\n",
    "    if probs.index(max_prob) == 1:\n",
    "        suggestions.append((audio[0], max_prob))"
   ]
  },
  {
   "cell_type": "code",
   "execution_count": 15,
   "metadata": {},
   "outputs": [
    {
     "name": "stdout",
     "output_type": "stream",
     "text": [
      "13b6b16358c12d08f263cd3eafa3f67a\n"
     ]
    }
   ],
   "source": [
    "print(sorted(suggestions, key=lambda t: t[1])[0][0])"
   ]
  },
  {
   "cell_type": "code",
   "execution_count": null,
   "metadata": {},
   "outputs": [],
   "source": []
  }
 ],
 "metadata": {
  "kernelspec": {
   "display_name": "Python 3",
   "language": "python",
   "name": "python3"
  },
  "language_info": {
   "codemirror_mode": {
    "name": "ipython",
    "version": 3
   },
   "file_extension": ".py",
   "mimetype": "text/x-python",
   "name": "python",
   "nbconvert_exporter": "python",
   "pygments_lexer": "ipython3",
   "version": "3.6.10"
  }
 },
 "nbformat": 4,
 "nbformat_minor": 2
}
